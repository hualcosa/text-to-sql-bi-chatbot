{
 "cells": [
  {
   "cell_type": "markdown",
   "id": "678fb8f0-766a-450c-9746-69d98303782d",
   "metadata": {},
   "source": [
    "# Exploratory Data Analysis\n",
    "\n",
    "In this notebook we will be exploring the NBA dataset to understand what tables and data are available for querying. There are many tables with lots of rows so we will be focusing on a few to keep this notebook manageable. "
   ]
  },
  {
   "cell_type": "code",
   "execution_count": null,
   "id": "8fa0a272-8e56-454c-b815-96543fb84b94",
   "metadata": {
    "tags": []
   },
   "outputs": [],
   "source": [
    "%run ../utilities/database_utils.py\n",
    "import inspect"
   ]
  },
  {
   "cell_type": "code",
   "execution_count": null,
   "id": "639420d4-5477-4e15-b055-d0b474587684",
   "metadata": {
    "tags": []
   },
   "outputs": [],
   "source": [
    "print(inspect.getsource(execute_sql))"
   ]
  },
  {
   "cell_type": "code",
   "execution_count": null,
   "id": "986d1c05-baf5-4cff-be71-96923539042a",
   "metadata": {
    "tags": []
   },
   "outputs": [],
   "source": [
    "import pandas as pd"
   ]
  },
  {
   "cell_type": "markdown",
   "id": "eda2b81c-93ec-483e-b12a-64a5d23b20cc",
   "metadata": {},
   "source": [
    "### Step 1\n",
    "\n",
    "For each table:\n",
    "- Data Types\n",
    "- Data Sizes"
   ]
  },
  {
   "cell_type": "code",
   "execution_count": null,
   "id": "fbed7449-c154-4ee9-a167-68aea38f0b0b",
   "metadata": {
    "scrolled": true,
    "tags": []
   },
   "outputs": [],
   "source": [
    "execute_sql('SHOW TABLES FROM SCHEMA \"aim330\".\"public\"')"
   ]
  },
  {
   "cell_type": "code",
   "execution_count": null,
   "id": "1164c7b5-4da5-4824-a41f-d82906a62067",
   "metadata": {
    "scrolled": true,
    "tags": []
   },
   "outputs": [],
   "source": [
    "execute_sql(\"\"\"select col_name, col_type  from pg_get_cols('\"aim330\".\"public\".\"game\"') cols(view_schema name, view_name name, col_name name, col_type varchar, col_num int);\"\"\")"
   ]
  },
  {
   "cell_type": "code",
   "execution_count": null,
   "id": "ca783ed9-2954-4669-9914-7e777ed1fddf",
   "metadata": {
    "scrolled": true,
    "tags": []
   },
   "outputs": [],
   "source": [
    "execute_sql(\"\"\"select col_name, col_type  from pg_get_cols('\"aim330\".\"public\".\"common_player_info\"') cols(view_schema name, view_name name, col_name name, col_type varchar, col_num int);\"\"\")"
   ]
  },
  {
   "cell_type": "code",
   "execution_count": null,
   "id": "e65b99ed-f517-4ff0-9325-cfb75fc9eaf6",
   "metadata": {
    "scrolled": true,
    "tags": []
   },
   "outputs": [],
   "source": [
    "execute_sql(\"\"\"select col_name, col_type  from pg_get_cols('\"aim330\".\"public\".\"game_summary\"') cols(view_schema name, view_name name, col_name name, col_type varchar, col_num int);\"\"\")"
   ]
  },
  {
   "cell_type": "code",
   "execution_count": null,
   "id": "b9886b07-24ec-4d96-9a2f-7392336dda25",
   "metadata": {
    "scrolled": true,
    "tags": []
   },
   "outputs": [],
   "source": [
    "success, table_data = execute_sql('SHOW TABLES FROM SCHEMA \"aim330\".\"public\"', show_progress=False)\n",
    "\n",
    "results = []\n",
    "for table in table_data.table_name:\n",
    "    results.append(execute_sql(f\"\"\"select count(*) from {table};\"\"\", show_progress=False)[1])\n",
    "    \n",
    "df = pd.concat(results)\n",
    "df['table_name'] = list(table_data.table_name)\n",
    "df"
   ]
  },
  {
   "cell_type": "markdown",
   "id": "38d7c2fa-851d-4417-bbe4-e6e8b24781f2",
   "metadata": {},
   "source": [
    "### Step 2\n",
    "\n",
    "- How many seasons\n",
    "- How many teams\n",
    "- How many players\n",
    "- different stats columns"
   ]
  },
  {
   "cell_type": "code",
   "execution_count": null,
   "id": "5b6b0f61-b1a2-459a-8bb6-d55f8a0c9ac0",
   "metadata": {
    "tags": []
   },
   "outputs": [],
   "source": [
    "execute_sql(\"\"\"select count(distinct season) from game_summary;\"\"\", show_progress=False)[1]"
   ]
  },
  {
   "cell_type": "code",
   "execution_count": null,
   "id": "4f33756e-3b55-4780-a90c-73bafeec3020",
   "metadata": {
    "tags": []
   },
   "outputs": [],
   "source": [
    "execute_sql(\"\"\"select count(distinct id) from team;\"\"\", show_progress=False)[1]"
   ]
  },
  {
   "cell_type": "code",
   "execution_count": null,
   "id": "dfef8fba-4d4d-4596-b11c-f7326b633535",
   "metadata": {
    "tags": []
   },
   "outputs": [],
   "source": [
    "execute_sql(\"\"\"select count(distinct id) from player;\"\"\", show_progress=False)[1]"
   ]
  },
  {
   "cell_type": "markdown",
   "id": "b38e3355-d323-42c5-a5a5-195765394930",
   "metadata": {},
   "source": [
    "### Step 3\n",
    "\n",
    "- Data Summarization (df.describe())\n",
    "- Missing Data \n",
    "- Visualizations"
   ]
  },
  {
   "cell_type": "code",
   "execution_count": null,
   "id": "01163e9c-032f-44d3-b86f-d24038746bb8",
   "metadata": {
    "tags": []
   },
   "outputs": [],
   "source": [
    "game_csv = execute_sql(\"\"\"select * from game;\"\"\", show_progress=False)[1]\n",
    "game_csv.describe()"
   ]
  }
 ],
 "metadata": {
  "kernelspec": {
   "display_name": "conda_python3",
   "language": "python",
   "name": "conda_python3"
  },
  "language_info": {
   "codemirror_mode": {
    "name": "ipython",
    "version": 3
   },
   "file_extension": ".py",
   "mimetype": "text/x-python",
   "name": "python",
   "nbconvert_exporter": "python",
   "pygments_lexer": "ipython3",
   "version": "3.10.14"
  }
 },
 "nbformat": 4,
 "nbformat_minor": 5
}
