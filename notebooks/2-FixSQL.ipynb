{
 "cells": [
  {
   "cell_type": "markdown",
   "id": "df0295f4-a541-4a68-bcb2-55f97bdc2b6b",
   "metadata": {},
   "source": [
    "# Fix SQL\n",
    "\n",
    "Suggested questions to try:\n",
    "1. \"What are the various types of seasons in NBA\"\n",
    "2. \"How has the average height of NBA players changed over the decades since the league's founding?\""
   ]
  },
  {
   "cell_type": "code",
   "execution_count": null,
   "id": "f4b9093e-e908-4362-ae2c-88cf428f46c5",
   "metadata": {
    "tags": []
   },
   "outputs": [],
   "source": [
    "import boto3\n",
    "import pandas as pd\n",
    "import inspect"
   ]
  },
  {
   "cell_type": "code",
   "execution_count": null,
   "id": "5e3c2642-20d8-4029-b601-95cccdff6fef",
   "metadata": {
    "tags": []
   },
   "outputs": [],
   "source": [
    "%run ../utilities/database_utils.py"
   ]
  },
  {
   "cell_type": "code",
   "execution_count": null,
   "id": "cf2a3f4a-9304-4571-ad5a-6b7117928818",
   "metadata": {
    "tags": []
   },
   "outputs": [],
   "source": [
    "%run ../utilities/prompt_utils.py"
   ]
  },
  {
   "cell_type": "code",
   "execution_count": null,
   "id": "a7289bdc-1dd8-4ed0-9a2a-84d515558beb",
   "metadata": {
    "tags": []
   },
   "outputs": [],
   "source": [
    "with open(\"db_schema.txt\", \"r\") as f:\n",
    "    db_schema = f.read()"
   ]
  },
  {
   "cell_type": "code",
   "execution_count": null,
   "id": "384540a0-0f03-4e6d-b0d8-a71531c1d888",
   "metadata": {
    "tags": []
   },
   "outputs": [],
   "source": [
    "usr_query = \"How has the average height of NBA players changed over the decades since the league's founding?\"\n",
    "current_feedback = ''\n",
    "max_attempts = 3"
   ]
  },
  {
   "cell_type": "code",
   "execution_count": null,
   "id": "d2c58201-46ff-42cf-8621-9d9235076f10",
   "metadata": {
    "tags": []
   },
   "outputs": [],
   "source": [
    "%run ../utilities/utils.py"
   ]
  },
  {
   "cell_type": "code",
   "execution_count": null,
   "id": "1547e8d9-6acb-4a4a-b135-947e1c2fc675",
   "metadata": {
    "tags": []
   },
   "outputs": [],
   "source": [
    "print(inspect.getsource(run_query_no_feedback))"
   ]
  },
  {
   "cell_type": "code",
   "execution_count": null,
   "id": "f02970e2-2790-40c7-9cfc-233e5d0ca010",
   "metadata": {
    "tags": []
   },
   "outputs": [],
   "source": [
    "print(inspect.getsource(run_query_with_feedback))"
   ]
  },
  {
   "cell_type": "code",
   "execution_count": null,
   "id": "58b76b6f-fef1-4721-bbce-4a7abfbe7d33",
   "metadata": {
    "tags": []
   },
   "outputs": [],
   "source": [
    "if_passed, response, sql_query, current_attempt = run_query_no_feedback(usr_query, db_schema, prompt_callback=None)\n",
    "\n",
    "while not if_passed and current_attempt < max_attempts:\n",
    "    prev_response = response\n",
    "    prev_sql_query = sql_query\n",
    "    prev_feedback = current_feedback\n",
    "    if_passed, current_feedback, response, sql_query, current_attempt = run_query_with_feedback(usr_query, prev_feedback, prev_sql_query, prev_response, current_attempt, db_schema)"
   ]
  },
  {
   "cell_type": "code",
   "execution_count": null,
   "id": "d9a23a9c-07e7-42bb-bca2-5c93c6acf42c",
   "metadata": {
    "tags": []
   },
   "outputs": [],
   "source": [
    "if if_passed:\n",
    "    print(sql_query)\n",
    "    print(response)"
   ]
  }
 ],
 "metadata": {
  "kernelspec": {
   "display_name": "conda_python3",
   "language": "python",
   "name": "conda_python3"
  },
  "language_info": {
   "codemirror_mode": {
    "name": "ipython",
    "version": 3
   },
   "file_extension": ".py",
   "mimetype": "text/x-python",
   "name": "python",
   "nbconvert_exporter": "python",
   "pygments_lexer": "ipython3",
   "version": "3.10.14"
  }
 },
 "nbformat": 4,
 "nbformat_minor": 5
}
