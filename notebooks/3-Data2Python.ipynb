{
 "cells": [
  {
   "cell_type": "markdown",
   "id": "18d057eb-5375-482c-84f7-4ffd7491c94b",
   "metadata": {},
   "source": [
    "# Python DataViz Generator"
   ]
  },
  {
   "cell_type": "code",
   "execution_count": null,
   "id": "94113256-ee59-454c-842f-ce6958743e82",
   "metadata": {
    "tags": []
   },
   "outputs": [],
   "source": [
    "import boto3\n",
    "import json\n",
    "import inspect"
   ]
  },
  {
   "cell_type": "code",
   "execution_count": null,
   "id": "eea5e4e7-67e3-45ce-b0f2-7cbdfa9cdf65",
   "metadata": {
    "tags": []
   },
   "outputs": [],
   "source": [
    "%run ../utilities/utils.py"
   ]
  },
  {
   "cell_type": "markdown",
   "id": "800f2cc9-73ba-411d-b263-30a1e3f75ddd",
   "metadata": {},
   "source": [
    "# Generate Visualization from SQL"
   ]
  },
  {
   "cell_type": "code",
   "execution_count": null,
   "id": "c84f0671-f8d3-41ca-859c-59f14c1e21f6",
   "metadata": {
    "tags": []
   },
   "outputs": [],
   "source": [
    "%run ../utilities/prompt_utils.py"
   ]
  },
  {
   "cell_type": "code",
   "execution_count": null,
   "id": "2c1b0c17-5cbf-4266-8e2e-c7589475854f",
   "metadata": {
    "tags": []
   },
   "outputs": [],
   "source": [
    "print(inspect.getsource(build_description_prompt))"
   ]
  },
  {
   "cell_type": "code",
   "execution_count": null,
   "id": "dee0ef39-aa85-4931-90c9-816b38658247",
   "metadata": {
    "tags": []
   },
   "outputs": [],
   "source": [
    "print(inspect.getsource(build_python_gen_prompt_v1))"
   ]
  },
  {
   "cell_type": "code",
   "execution_count": null,
   "id": "97c92752-758c-4352-a2a3-e5b2e68a4412",
   "metadata": {
    "tags": []
   },
   "outputs": [],
   "source": [
    "print(inspect.getsource(generate_viz_v1))"
   ]
  },
  {
   "cell_type": "code",
   "execution_count": null,
   "id": "d544243a-026f-4c06-92e1-b332024ee061",
   "metadata": {
    "tags": []
   },
   "outputs": [],
   "source": [
    "success, python_code = generate_viz_v1(\"\"\"select season, home_points + away_points as total_points from (SELECT b.season, sum(a.pts_home) as home_points, sum(a.pts_away) as away_points\n",
    "FROM\n",
    "\"aim330\".\"public\".\"game\" as a \n",
    "join \"aim330\".public.game_summary as b \n",
    "on a.game_id = b.game_id\n",
    "where a.team_name_home = 'Denver Nuggets'\n",
    "group by b.season)\n",
    "order by season\"\"\", execute=False)"
   ]
  },
  {
   "cell_type": "code",
   "execution_count": null,
   "id": "69162449-5eba-432f-ab5d-2a146c8ee60f",
   "metadata": {
    "tags": []
   },
   "outputs": [],
   "source": [
    "exec(python_code)"
   ]
  }
 ],
 "metadata": {
  "kernelspec": {
   "display_name": "conda_python3",
   "language": "python",
   "name": "conda_python3"
  },
  "language_info": {
   "codemirror_mode": {
    "name": "ipython",
    "version": 3
   },
   "file_extension": ".py",
   "mimetype": "text/x-python",
   "name": "python",
   "nbconvert_exporter": "python",
   "pygments_lexer": "ipython3",
   "version": "3.10.14"
  }
 },
 "nbformat": 4,
 "nbformat_minor": 5
}
