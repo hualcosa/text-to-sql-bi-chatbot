{
 "cells": [
  {
   "cell_type": "markdown",
   "id": "5f360fa0-d25f-45d2-8e00-bc80d8c46da9",
   "metadata": {},
   "source": [
    "# Putting all together in a StreamLit app\n",
    "\n",
    "In this notebook we deploy a streamlit that displays chatbot and simultaneously shows the output of different stages within LangGraph nodes."
   ]
  },
  {
   "cell_type": "code",
   "execution_count": null,
   "id": "c716808f-e641-4b9a-a446-fb0742728125",
   "metadata": {
    "tags": []
   },
   "outputs": [],
   "source": [
    "import json"
   ]
  },
  {
   "cell_type": "code",
   "execution_count": null,
   "id": "0e674a29-f4b9-452f-ba45-95d82343ac1b",
   "metadata": {
    "tags": []
   },
   "outputs": [],
   "source": [
    "%cd ../"
   ]
  },
  {
   "cell_type": "code",
   "execution_count": null,
   "id": "32447644-d965-40c6-8b78-263864866765",
   "metadata": {
    "tags": []
   },
   "outputs": [],
   "source": [
    "!pip install -r requirements.txt --quiet"
   ]
  },
  {
   "cell_type": "markdown",
   "id": "33fca1ea-54a7-4e99-a523-a21e37de7216",
   "metadata": {},
   "source": [
    "### Helper Function\n",
    "We define a function to return the notebook name. This will be helpful in reach the endpoint where the app is deployed."
   ]
  },
  {
   "cell_type": "code",
   "execution_count": null,
   "id": "c655c2be-2a96-4d78-92c4-89221523acb1",
   "metadata": {
    "tags": []
   },
   "outputs": [],
   "source": [
    "def get_notebook_name():\n",
    "    log_path = '/opt/ml/metadata/resource-metadata.json'\n",
    "    with open(log_path, 'r') as logs:\n",
    "        _logs = json.load(logs)\n",
    "    return _logs['ResourceName']"
   ]
  },
  {
   "cell_type": "markdown",
   "id": "7a66d983-44d2-40cb-b7ec-a532fb726287",
   "metadata": {},
   "source": [
    "### Deploy App Asynchronously"
   ]
  },
  {
   "cell_type": "code",
   "execution_count": null,
   "id": "7ace0fe8-41df-4f9e-b889-c05afa6e8d6a",
   "metadata": {
    "tags": []
   },
   "outputs": [],
   "source": [
    "from subprocess import Popen\n",
    "p = Popen(['/home/ec2-user/anaconda3/envs/python3/bin/python', '-m', 'streamlit', 'run', 'app.py'])"
   ]
  },
  {
   "cell_type": "markdown",
   "id": "81ca48c8-b9bc-47d5-93a8-57e2917f0469",
   "metadata": {},
   "source": [
    "Use the link printed below to reach the deployed app"
   ]
  },
  {
   "cell_type": "code",
   "execution_count": null,
   "id": "9e2686ff-89fc-4fc3-9924-6e0220a900d4",
   "metadata": {
    "tags": []
   },
   "outputs": [],
   "source": [
    "import boto3 \n",
    "\n",
    "client = boto3.client('sagemaker')\n",
    "\n",
    "response = client.describe_notebook_instance(\n",
    "    NotebookInstanceName=get_notebook_name()\n",
    ")\n",
    "\n",
    "print(f\"https://{response['Url']}/proxy/8501/\")"
   ]
  },
  {
   "cell_type": "markdown",
   "id": "c1d55b41-a4f2-4326-b0fe-c7118f8d0f61",
   "metadata": {},
   "source": [
    "### Terminate the app server"
   ]
  },
  {
   "cell_type": "code",
   "execution_count": null,
   "id": "0b3274f4-332c-4306-b3f1-ab930a763652",
   "metadata": {
    "tags": []
   },
   "outputs": [],
   "source": [
    "p.terminate()"
   ]
  }
 ],
 "metadata": {
  "kernelspec": {
   "display_name": "conda_python3",
   "language": "python",
   "name": "conda_python3"
  },
  "language_info": {
   "codemirror_mode": {
    "name": "ipython",
    "version": 3
   },
   "file_extension": ".py",
   "mimetype": "text/x-python",
   "name": "python",
   "nbconvert_exporter": "python",
   "pygments_lexer": "ipython3",
   "version": "3.10.15"
  }
 },
 "nbformat": 4,
 "nbformat_minor": 5
}
